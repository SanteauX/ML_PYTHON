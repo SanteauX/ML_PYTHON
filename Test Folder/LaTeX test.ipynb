{
 "cells": [
  {
   "cell_type": "markdown",
   "metadata": {},
   "source": [
    "$a_{n_i}$"
   ]
  },
  {
   "cell_type": "raw",
   "metadata": {},
   "source": [
    "a_{n_i}"
   ]
  },
  {
   "cell_type": "markdown",
   "metadata": {},
   "source": [
    "$\\int_{i=1}^n$"
   ]
  },
  {
   "cell_type": "raw",
   "metadata": {},
   "source": [
    "\\int_{i=1}^n\t"
   ]
  },
  {
   "cell_type": "markdown",
   "metadata": {},
   "source": [
    "$\\sum_{i=1}^{\\infty}$"
   ]
  },
  {
   "cell_type": "raw",
   "metadata": {},
   "source": [
    "\\sum_{i=1}^{\\infty}\t"
   ]
  },
  {
   "cell_type": "markdown",
   "metadata": {},
   "source": [
    "$\\prod_{i=1}^n$"
   ]
  },
  {
   "cell_type": "raw",
   "metadata": {},
   "source": [
    "\\prod_{i=1}^n"
   ]
  },
  {
   "cell_type": "markdown",
   "metadata": {},
   "source": [
    "$\\coprod_{i=1}^n$"
   ]
  },
  {
   "cell_type": "raw",
   "metadata": {},
   "source": [
    "\\coprod_{i=1}^n"
   ]
  }
 ],
 "metadata": {
  "kernelspec": {
   "display_name": "Python 3",
   "language": "python",
   "name": "python3"
  },
  "language_info": {
   "codemirror_mode": {
    "name": "ipython",
    "version": 3
   },
   "file_extension": ".py",
   "mimetype": "text/x-python",
   "name": "python",
   "nbconvert_exporter": "python",
   "pygments_lexer": "ipython3",
   "version": "3.8.2"
  }
 },
 "nbformat": 4,
 "nbformat_minor": 4
}
